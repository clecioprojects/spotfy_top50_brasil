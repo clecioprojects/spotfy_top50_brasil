{
 "cells": [
  {
   "cell_type": "code",
   "execution_count": null,
   "metadata": {},
   "outputs": [],
   "source": [
    "from wordcloud import WordCloud\n",
    "import matplotlib.pyplot as plt\n",
    "import re\n",
    "import pandas as pd\n",
    "df = pd.read_csv(\"df_letra.csv\")\n",
    "df['letra'] = df['letra'].str.replace('\\n', ' ')\n",
    "df"
   ]
  },
  {
   "cell_type": "code",
   "execution_count": null,
   "metadata": {},
   "outputs": [],
   "source": [
    "# Concatenate all text values from the column\n",
    "text = ' '.join(df['letra'])\n",
    "text = text.replace('\\n', ' ')\n",
    "text = text.lower()\n",
    "re.sub(' +', ' ', text)\n",
    "len(text)"
   ]
  },
  {
   "cell_type": "code",
   "execution_count": null,
   "metadata": {},
   "outputs": [],
   "source": [
    "import csv\n",
    "filestopwords = \"stopwords.txt\"\n",
    "with open(filestopwords, 'r', encoding='utf-8') as file:\n",
    "    reader = csv.reader(file)\n",
    "    stopwords = []\n",
    "    for line in reader:\n",
    "        stopwords.append(line)\n",
    "\n",
    "\n",
    "stopwords.extend(['pra', 'aí', 'tô', 'pro', 'mim', 'tá', 'tão', 'Então', 'Igow', 'agora', 'ninguém', 'alguém',  'gente', 'vou', 'vai', 'aqui', 'oh', 'ah', 'ih', 'ai', 'iê'])\n",
    "\n",
    "stopwords = [str(e).lower() for e in stopwords]\n",
    "stopwords = [item.replace(\"'\", '') for item in stopwords]\n",
    "stopwords = [item.replace(\"[\", \"\") for item in stopwords]\n",
    "stopwords = [item.replace(\"]\", \"\") for item in stopwords]\n",
    "len(stopwords)"
   ]
  },
  {
   "cell_type": "code",
   "execution_count": null,
   "metadata": {},
   "outputs": [],
   "source": [
    "wordcloud = WordCloud(width=1000, height=1000, \n",
    "                      stopwords=stopwords, \n",
    "                      random_state=200, \n",
    "                      max_words=500, \n",
    "                      collocations=False,\n",
    "                      #mask=imagem_mascara, \n",
    "                      background_color='white').generate(text)\n",
    "plt.figure(figsize=(7, 7))\n",
    "plt.imshow(wordcloud, interpolation='bilinear')\n",
    "plt.axis('off')\n",
    "plt.show()"
   ]
  },
  {
   "cell_type": "code",
   "execution_count": null,
   "metadata": {},
   "outputs": [],
   "source": [
    "df[df['letra'].str.contains('amor', case=False)]"
   ]
  }
 ],
 "metadata": {
  "kernelspec": {
   "display_name": "Python 3",
   "language": "python",
   "name": "python3"
  },
  "language_info": {
   "codemirror_mode": {
    "name": "ipython",
    "version": 3
   },
   "file_extension": ".py",
   "mimetype": "text/x-python",
   "name": "python",
   "nbconvert_exporter": "python",
   "pygments_lexer": "ipython3",
   "version": "3.11.0"
  },
  "orig_nbformat": 4
 },
 "nbformat": 4,
 "nbformat_minor": 2
}

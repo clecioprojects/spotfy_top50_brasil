{
 "cells": [
  {
   "cell_type": "code",
   "execution_count": null,
   "metadata": {},
   "outputs": [],
   "source": [
    "import os\n",
    "import time\n",
    "import datetime\n",
    "import requests\n",
    "from selenium import webdriver\n",
    "from selenium.webdriver.common.keys import Keys \n",
    "from selenium.webdriver.support.ui import Select\n",
    "from selenium.webdriver.support.ui import WebDriverWait\n",
    "from selenium.webdriver.common.by import By\n",
    "from selenium.webdriver.support import expected_conditions as EC\n",
    "from selenium.webdriver.common.alert import Alert\n",
    "from selenium.webdriver.common.action_chains import ActionChains\n",
    "\n",
    "from bs4 import BeautifulSoup\n",
    "import pandas as pd \n",
    "import numpy as np \n",
    "driver = webdriver.Firefox()"
   ]
  },
  {
   "cell_type": "code",
   "execution_count": null,
   "metadata": {},
   "outputs": [],
   "source": [
    "playlist = 'https://open.spotify.com/playlist/37i9dQZF1DX0FOF1IUWK1W'\\\n",
    "driver.get(playlist)"
   ]
  },
  {
   "cell_type": "code",
   "execution_count": null,
   "metadata": {},
   "outputs": [],
   "source": [
    "page_source = driver.page_source\n",
    "soup = BeautifulSoup(page_source, 'html.parser')\n",
    "\n",
    "df = pd.DataFrame(columns=['musica'])\n",
    "links = soup.find_all('button')\n",
    "for link in links:\n",
    "    href = link.get('aria-label')\n",
    "    if 'Tocar' in str(href): \n",
    "        df = df.append({'musica': str(href).replace('Tocar ', '',)}, ignore_index=True)\n",
    "        #print(href)\n",
    "df = df[~df['musica'].str.contains('Top Brasil')]\n",
    "df['musica'] = df['musica'].str.replace('- Ao Vivo ', ' ')\n",
    "df"
   ]
  },
  {
   "cell_type": "code",
   "execution_count": null,
   "metadata": {},
   "outputs": [],
   "source": [
    "columns_names = ['musica', 'titulo','artista', 'letra']\n",
    "df_letra = pd.DataFrame(columns=columns_names)\n",
    "df_letra\n",
    "\n",
    "for index, row in df.iterrows():\n",
    "    consulta = row['musica']\n",
    "    titulo= ''\n",
    "    artista = ''\n",
    "    letra = \"\"\n",
    "    try:\n",
    "        url = 'https://www.letras.mus.br'\n",
    "        driver.get(url)\n",
    "        driver.find_element(By.XPATH, '//*[@id=\"main_suggest\"]').clear()\n",
    "        driver.find_element(By.XPATH, '//*[@id=\"main_suggest\"]').send_keys(consulta)\n",
    "        driver.find_element(By.XPATH, '//*[@id=\"main_suggest\"]').send_keys(Keys.ENTER)\n",
    "        time.sleep(2)\n",
    "        driver.find_element(By.XPATH, '/html/body/div[1]/div[1]/div[1]/div[3]/div/div/div/div/div/div/div/div[5]/div[2]/div/div/div[1]/div[1]/div[1]/div[1]/div/a').click()\n",
    "\n",
    "        time.sleep(2)\n",
    "        titulo = driver.find_element(By.XPATH, '//*[@id=\"js-lyric-cnt\"]/article/div[1]/div[2]/h1').get_attribute('innerHTML') #titulo\n",
    "        artista = driver.find_element(By.XPATH, '//*[@id=\"js-lyric-cnt\"]/article/div[1]/div[2]/h2/a/span').get_attribute('innerHTML') #artista\n",
    "\n",
    "        page_source = driver.page_source\n",
    "        soup = BeautifulSoup(page_source, 'html.parser')\n",
    "        target_div = soup.find('div', class_='cnt-letra')\n",
    "        paragraphs = target_div.find_all('p')\n",
    "        \n",
    "        for p in paragraphs:\n",
    "            for br in p.find_all('br'):\n",
    "                br.replace_with('\\n')\n",
    "            paragraph_text = p.text\n",
    "            letra +=  paragraph_text + '\\n' + '\\n'\n",
    "        list_row = [consulta, titulo, artista, letra]\n",
    "        df_letra.loc[len(df_letra)] = list_row \n",
    "    except:\n",
    "        list_row = [consulta, titulo, artista, letra]\n",
    "        df_letra.loc[len(df_letra)] = list_row \n",
    "        continue\n",
    "\n",
    "df_letra"
   ]
  },
  {
   "cell_type": "code",
   "execution_count": null,
   "metadata": {},
   "outputs": [],
   "source": [
    "df_letra.to_csv(\"df_letra.csv\")\n",
    "df.to_csv(\"df_top50_musicas_nacionais.csv\")"
   ]
  }
 ],
 "metadata": {
  "kernelspec": {
   "display_name": "Python 3",
   "language": "python",
   "name": "python3"
  },
  "language_info": {
   "codemirror_mode": {
    "name": "ipython",
    "version": 3
   },
   "file_extension": ".py",
   "mimetype": "text/x-python",
   "name": "python",
   "nbconvert_exporter": "python",
   "pygments_lexer": "ipython3",
   "version": "3.11.0"
  },
  "orig_nbformat": 4
 },
 "nbformat": 4,
 "nbformat_minor": 2
}
